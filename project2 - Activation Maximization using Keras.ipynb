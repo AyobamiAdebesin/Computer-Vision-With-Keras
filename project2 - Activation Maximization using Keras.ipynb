{
 "cells": [
  {
   "cell_type": "markdown",
   "id": "d0ed390b",
   "metadata": {},
   "source": [
    "### Activation maximization on MNIST"
   ]
  },
  {
   "cell_type": "code",
   "execution_count": 1,
   "id": "579b58ea",
   "metadata": {},
   "outputs": [],
   "source": [
    "from __future__ import print_function\n",
    "import numpy as np\n",
    "\n",
    "from tensorflow.keras.datasets import mnist\n",
    "from tensorflow.keras.models import Sequential, Model\n",
    "from tensorflow.keras.layers import Dense, Dropout, Flatten, Activation, Input\n",
    "from tensorflow.keras.layers import  Conv2D, MaxPooling2D\n",
    "from tensorflow.keras import backend as K\n",
    "from tensorflow.keras.utils import to_categorical"
   ]
  },
  {
   "cell_type": "code",
   "execution_count": 57,
   "id": "4f5d66f9",
   "metadata": {},
   "outputs": [],
   "source": [
    "batch_size = 128\n",
    "num_classes = 10\n",
    "epochs = 1\n",
    "\n",
    "#Input image dimensions\n",
    "img_rows, img_cols = 28, 28\n",
    "\n",
    "# Load the data\n",
    "(X_train, y_train), (X_test, y_test) =  mnist.load_data()\n",
    "\n",
    "if K.image_data_format() == \"channels_first\":\n",
    "    X_train = X_train.reshape(X_train.shape[0], 1, img_rows, img_cols)\n",
    "    X_test = X_test.reshape(X_test.shape[0], 1, img_rows, img_cols)\n",
    "    input_shape = (1, img_rows, img_cols)\n",
    "else:\n",
    "    X_train = X_train.reshape(X_train.shape[0], img_rows, img_cols, 1)\n",
    "    X_test = X_test.reshape(X_test.shape[0], img_rows, img_cols, 1)\n",
    "    input_shape = (img_rows, img_cols, 1)\n",
    "\n",
    "X_train = X_train.astype('float32')\n",
    "X_train /= 255\n",
    "X_test = X_test.astype('float32')\n",
    "X_test /= 255\n",
    "\n",
    "y_train = to_categorical(y_train)\n",
    "y_test = to_categorical(y_test)\n",
    "\n",
    "# from tensorflow.keras.models import Sequential\n",
    "# from tensorflow.keras.optimizers import Adam\n",
    "# model = Sequential()\n",
    "# model.add(Conv2D(32, (3,3), activation='relu', input_shape=input_shape))\n",
    "# model.add(Conv2D(64, (3,3), activation='relu'))\n",
    "# model.add(MaxPooling2D(2,2))\n",
    "# model.add(Dropout(0.25))\n",
    "# model.add(Flatten())\n",
    "# model.add(Dense(128, activation='relu'))\n",
    "# model.add(Dropout(0.5))\n",
    "# model.add(Dense(num_classes, activation='softmax', name='preds'))\n",
    "# model.compile(loss='categorical_crossentropy', optimizer=Adam(), metrics=['accuracy'])"
   ]
  },
  {
   "cell_type": "code",
   "execution_count": 3,
   "id": "3f511677",
   "metadata": {},
   "outputs": [
    {
     "name": "stdout",
     "output_type": "stream",
     "text": [
      "469/469 [==============================] - 320s 676ms/step - loss: 0.2619 - accuracy: 0.9191 - val_loss: 0.0579 - val_accuracy: 0.9815\n"
     ]
    },
    {
     "data": {
      "text/plain": [
       "<tensorflow.python.keras.callbacks.History at 0x2bd1f7f3ca0>"
      ]
     },
     "execution_count": 3,
     "metadata": {},
     "output_type": "execute_result"
    }
   ],
   "source": [
    "model.fit(X_train, y_train, batch_size=batch_size, epochs=epochs, verbose=1, validation_data=(X_test, y_test))"
   ]
  },
  {
   "cell_type": "code",
   "execution_count": 6,
   "id": "0138516e",
   "metadata": {},
   "outputs": [],
   "source": [
    "model.save(\"Cnn2.h5\")"
   ]
  },
  {
   "cell_type": "code",
   "execution_count": 58,
   "id": "697cfcca",
   "metadata": {},
   "outputs": [],
   "source": [
    "from tensorflow.keras.models import load_model\n",
    "model = load_model(\"Cnn2.h5\")"
   ]
  },
  {
   "cell_type": "code",
   "execution_count": 59,
   "id": "aa74f88b",
   "metadata": {},
   "outputs": [
    {
     "name": "stdout",
     "output_type": "stream",
     "text": [
      "313/313 [==============================] - 20s 58ms/step - loss: 0.0579 - accuracy: 0.9815: 18s - loss: 0.0223 - accuracy: 0.992 -  - ETA: 14s - loss: 0.0836 - accuracy: 0.975 - ETA: 13s - loss: 0.0834  - ETA: 12s - loss: 0.0893 - accuracy: - ETA: 12s - loss: 0.0848 - accuracy: 0 - ETA: 12s - loss: 0.0886 - ETA: 10s - loss: 0.0840 - accuracy: 0.973 - ETA: 10s - loss: 0.0834 - accuracy: 0. - ETA: 10s - loss:  - ETA: 9s - - ETA: 8s - loss: 0.0837 - accuracy - ETA: 8s - loss: - ETA: 4s - loss: 0.0673 - accu\n"
     ]
    },
    {
     "data": {
      "text/plain": [
       "[0.057891473174095154, 0.9815000295639038]"
      ]
     },
     "execution_count": 59,
     "metadata": {},
     "output_type": "execute_result"
    }
   ],
   "source": [
    "model.evaluate(X_test, y_test)"
   ]
  },
  {
   "cell_type": "code",
   "execution_count": 12,
   "id": "5d8c5f8f",
   "metadata": {
    "scrolled": true
   },
   "outputs": [],
   "source": [
    "### Visualizing the Dense Layers\n",
    "from tf_keras_vis.activation_maximization import ActivationMaximization\n",
    "from tf_keras_vis.activation_maximization.callbacks import Progress\n",
    "from tf_keras_vis.activation_maximization.input_modifiers import Jitter, Rotate2D\n",
    "from tf_keras_vis.activation_maximization.regularizers import TotalVariation2D, Norm\n",
    "from tf_keras_vis.utils.model_modifiers import ExtractIntermediateLayer, ReplaceToLinear\n",
    "from tf_keras_vis.utils.scores import CategoricalScore"
   ]
  },
  {
   "cell_type": "code",
   "execution_count": 16,
   "id": "2b3b50c9",
   "metadata": {},
   "outputs": [],
   "source": [
    "act_max = ActivationMaximization(model, model_modifier=[ExtractIntermediateLayer('preds'), ReplaceToLinear()], clone=False)"
   ]
  },
  {
   "cell_type": "code",
   "execution_count": 54,
   "id": "9cd2fa13",
   "metadata": {},
   "outputs": [
    {
     "name": "stdout",
     "output_type": "stream",
     "text": [
      "200/200 [==============================] - 11s 53ms/step - Score: 14.9439 - TotalVariation2D: 14.9609 - Norm: 34.1561TA: 7s - Score: -64.7493 - TotalVariation2D: 92.7574 - Norm: 37.827 - ETA: 7s - Score: -52.4972 - TotalVariation2D: 87.3864 - Norm: 3 - ETA: 7s - Score: -29.2982 - TotalVariation2D: 68.6300 - Norm: 37.47 - ETA: 7s - Score: -19.7097 - TotalVariation2D: 63.6261 - Norm: 37.39 - ETA: 6s - Score: -7.3529 - TotalVariation2D: 59.3870 - Norm: 37.3294 - ETA: 6s - Score: -7.0166 - TotalVariation2D: 55.8085 - Norm: 37.270 - ETA: 6s - Score: -2.5649 - TotalVariation2D: 52.8326 - Norm: 37 - ETA: 6s - Score: 35.5236 - TotalVariation2D: 44.2151 - Norm: 37.0 - ETA: 5s - Score: 32.7371 - TotalVariation2D: 39.6886 - Norm: 36. - ETA: 5s - Score: 22.8621 - TotalVariation2D: 34.8416 - Norm: 36.771 - ETA: 5s - Score: 21.7267 - TotalVariation2D: 33.8702 - Norm: 36.732 - ETA: 5s - Score: 21.2238 - TotalVariation2D: 32.9666 -  - ETA: 4s - Score: 13.6815 - TotalVariation2D: 25.0583 - Norm: 36.20 - ETA: 4s - Score: 13.4351 - TotalVariation2D: 24.1912 - Norm: 36.12 - ETA: 4s - Score: 13.8151 - TotalVariation2D: 23.6028 - Norm: 36.058 - ETA: 4s - Score: 13.1473 - TotalVariation2D: 23.2640 - Norm: 36.0 - ETA: 4s - Score: 14.7334 - TotalVariation2D: 22.3516 - Norm: 35.89 - ETA: 3s - Score: 15.5675 - TotalVariation2D: 21.9664 - Norm: 35.83 - ETA: 3s - Score: 15.3393 - TotalVariation2D: 21.7115 - Norm: 35 - ETA: 3s - Score: 16.5366 - TotalVariation2D: 21.1263 - Norm: 35.7 - ETA: 3s - Score: 17.0025 - TotalVariation2D: 20.8027 - Norm: 35. - ETA: 3s - Score: 17.0404 - TotalVariation2D: 20.3962 - Norm:  - ETA: 3s - Score: 19.1097 - TotalVariation2D: 19.7033 - Norm: 35.4 - ETA: 3s - Score: 19.1346 - TotalVariation2D: 19.4590 - Norm: - ETA: 3s - Score: 21.3176 - TotalVariation2D: 18.7967 - Norm: - ETA: 3s - Score: 22.7357 - TotalVariation2D: 18.2084 - Norm: 35.08 - ETA: 2s - Score: 22.6745 - TotalVariation2D: 18.1078 - Norm: 35.0 - ETA: 2s - Score: 20.6650 - TotalVariation2D: 17.9546 - Norm: 35 - ETA: 2s - Score: 19.5996 - TotalVariation2D: 17.7005 - Norm: 34.929 - ETA: 2s - Score: 19.2435 - TotalVariation2D: 17.6499 - Norm: 34.914 - ETA: 2s - Score: 19.7193 - TotalVariation2D: 17.5933 - Norm: 34.89 - ETA: 2s - Score: 19.0434 - TotalVariation2D: 17.4841 - Norm: 34.870 - ETA: 2s - Score: 19.0006 - TotalVariation2D: 17.4313 - Norm: 34.8 - ETA: 2s - Score: 18.5952 - TotalVariation2D: 17.2729 - Norm: 34.812 - ETA: 2s - Score: 18.1265 - TotalVariation2D: 17.2187 - Norm: 34.79 - ETA: 2s - Score: 18.0039 - TotalVariation2D: 17.1156 - Norm: 34.770 - ETA: 2s - Score: 17.9597 - TotalVariation2D: 17.0666 - Norm: 34.7 - ETA: 2s - Score: 18.1300 - TotalVariation2D: 16.9096 - Norm: 34.715 - ETA: 1s - Score: 18.7638 - TotalVariation2D: 16.8561 - Norm: 34.702 - ETA: 1s - Score: 19.1322 - TotalVariation2D: 16.8109 - Norm: 34.68 - ETA: 1s - Score: 18.3861 - TotalVariation2D: 16.7192 - Norm: 34.66 - ETA: 1s - Score: 17.5333 - TotalVariation2D: 16.6265 - Norm: 34.63 - ETA: 1s - Score: 17.6387 - TotalVariation2D: 16.5304 - Norm: 34.607 - ETA: 1s - Score: 17.6087 - TotalVariation2D: 16.4832 - Norm: 34.593 - ETA: 1s - Score: 17.2957 - TotalVariation2D: 16.4341 - Norm: 34.579 - ETA: 1s - Score: 17.2847 - TotalVariation2D: 16.3846 - Norm: 34.565 - ETA: 1s - Score: 17.4482 - TotalVariation2D: 16.3357 - Norm: 34. - ETA: 1s - Score: 17.2899 - TotalVariation2D: 16.1427 - Norm: 34.497 - ETA: 1s - Score: 17.0764 - TotalVariation2D: 16.0973 - Norm: 34.484 - ETA: 1s - Score: 17.1654 - TotalVariation2D: 16.0515 - Norm: 34.471 - ETA: 1s - Score: 16.9865 - TotalVariation2D: 16.0062 - Norm: 34 - ETA: 0s - Score: 15.8494 - TotalVariation2D: 15.7313 - Norm: 34.3 - ETA: 0s - Score: 15.8727 - TotalVariation2D: 15.5988 - Norm: 34.3 - ETA: 0s - Score: 15.4085 - TotalVariation2D: 15.4566 - Norm: 34.302 - ETA: 0s - Score: 15.0148 - TotalVariation2D: 15.4095 - Norm: 34.289 - ETA: 0s - Score: 14.9928 - TotalVariation2D: 15.3615 - Norm\n"
     ]
    }
   ],
   "source": [
    "activations = act_max(CategoricalScore(0),\n",
    "                           steps=200,\n",
    "                           input_modifiers=[Jitter(jitter=16), Rotate2D(degree=1)],\n",
    "                           regularizers=[TotalVariation2D(weight=1.0),\n",
    "                                         Norm(weight=0.3, p=1)],\n",
    "                           optimizer=tf.keras.optimizers.RMSprop(1.0, 0.999),\n",
    "                           callbacks=[Progress()])"
   ]
  },
  {
   "cell_type": "code",
   "execution_count": 55,
   "id": "5a724f7c",
   "metadata": {},
   "outputs": [
    {
     "data": {
      "image/png": "[encoded data removed]",
      "text/plain": [
       "<Figure size 432x288 with 1 Axes>"
      ]
     },
     "metadata": {
      "needs_background": "light"
     },
     "output_type": "display_data"
    }
   ],
   "source": [
    "import matplotlib.pyplot as plt\n",
    "plt.imshow(activations[0])\n",
    "plt.show()"
   ]
  },
  {
   "cell_type": "code",
   "execution_count": 56,
   "id": "c08570c3",
   "metadata": {},
   "outputs": [
    {
     "name": "stdout",
     "output_type": "stream",
     "text": [
      "200/200 [==============================] - ETA: 0s - Score: 23.1273 - TotalVariation2D: 16.0324 - Norm: 32.819425 - ETA: 7s - Score: 29.5056 - TotalVariation2D: 118.2043 - Norm: 37.364 - ETA: 6s - Score: -22.4608 - TotalVariation2D: 106.9095 - Norm: 37.168 - ETA: 6s - Score: -39.5938 - TotalVariation2D: 95.6191 - Norm: 37.003 - ETA: 6s - Score: -29.1662 - TotalVariation2D: 85.5033 - Norm: 36.88 - ETA: 6s - Score: -20.0683 - TotalVariation2D: 77.6526 - Norm: 36.77 - ETA: 6s - Score: -8.4972 - TotalVariation2D: 71.2164 - Norm: 36.655 - ETA: 6s - Score: -8.7209 - TotalVariation2D: 61.4962 - Norm: 36.443 - ETA: 6s - Score: -8.9911 - TotalVariation2D: 57.6981 - Norm: 36.36 - ETA: 5s - Score: 2.6492 - TotalVariation2D: 51.7233 - Norm: 36.201 - ETA: 5s - Score: 11.0509 - TotalVariation2D: 49.3817 - Norm: 36.1 - ETA: 5s - Score: 17.9045 - TotalVariation2D: 43.7318 - Norm: 35.906 - ETA: 5s - Score: 12.4552 - TotalVariation2D: 42.2415 - Norm: 35.83 - ETA: 5s - Score: 10.5533 - TotalVariation2D: 39.5756 - Norm: 35.70 - ETA: 5s - Score: 22.2936 - TotalVariation2D: 37.3397 - Norm: 35.59 - ETA: 5s - Score: 17.6301 - TotalVariation2D: 36.0073 - Norm: 35.51 - ETA: 5s - Score: 17.2665 - TotalVariation2D: 34.3669 - Norm: 35.412 - ETA: 5s - Score: 21.7503 - TotalVariation2D: 33.5901 - Norm: 35.365 - ETA: 4s - Score: 21.4148 - TotalVariation2D: 32.9009 - Norm: 35.3 - ETA: 4s - Score: 25.1777 - TotalVariation2D: 31.3252 - Norm: 35.197 - ETA: 4s - Score: 26.1113 - TotalVariation2D: 30.7683 - Norm: 35.149 - ETA: 4s - Score: 31.5423 - TotalVariation2D: 30.2477 - Norm: 35.10 - ETA: 4s - Score: 36.8536 - TotalVariation2D: 29.3726 - Norm: 35.013 - ETA: 4s - Score: 37.1643 - TotalVariation2D: 28.9783 - Norm: 34.971 - ETA: 4s - Score: 37.1729 - TotalVariation2D: 28.7750 - Norm: 34. - ETA: 4s - Score: 30.9261 - TotalVariation2D: 27.1417 - Norm: 34.785 - ETA: 4s - Score: 27.9789 - TotalVariation2D: 26.7415 - Norm: 34.74 - ETA: 4s - Score: 27.3443 - TotalVariation2D: 25.9429 - Norm: 34.671 - ETA: 3s - Score: 27.8661 - TotalVariation2D: 25.7556 - Norm: 34.65 - ETA: 3s - Score: 28.2794 - TotalVariation2D: 25.2447 - Norm: 34.593 - ETA: 3s - Score: 26.5849 - TotalVariation2D: 24.9174 - Norm: 34.5 - ETA: 3s - Score: 26.2400 - TotalVariation2D: 23.9909 - Norm: 34.439 - ETA: 3s - Score: 26.3979 - TotalVariation2D: 23.7045 - Norm: 34.40 - ETA: 3s - Score: 25.1517 - TotalVariation2D: 23.4153 - Norm: 34.364 - ETA: 3s - Score: 27.0167 - TotalVariation2D: 23.1416 - Norm: 34.327 - ETA: 3s - Score: 27.4392 - TotalVariation2D: 22.8854 - Norm: 34.29 - ETA: 3s - Score: 27.6902 - TotalVariation2D: 22.3864 - Norm: 34.217 - ETA: 3s - Score: 28.1313 - TotalVariation2D: 22.1443 - Norm: 34 - ETA: 2s - Score: 26.1071 - TotalVariation2D: 21.0782 - Norm: 33.998 - ETA: 2s - Score: 27.8409 - TotalVariation2D: 20.8714 - Norm: 33.962 - ETA: 2s - Score: 29.2790 - TotalVariation2D: 20.6795 - Norm: 33. - ETA: 2s - Score: 25.7003 - TotalVariation2D: 19.9737 - Norm: 33.789 - ETA: 2s - Score: 25.5411 - TotalVariation2D: 19.8057 - Norm: 33. - ETA: 2s - Score: 25.7481 - TotalVariation2D: 19.2475 - Norm: 33.643 - ETA: 1s - Score: 25.4608 - TotalVariation2D: 19.0956 - Norm: 33. - ETA: 1s - Score: 25.8582 - TotalVariation2D: 18.5770 - Norm: 33.505 - ETA: 1s - Score: 25.7846 - TotalVariation2D: 18.4410 - Norm: 33.474 - ETA: 1s - Score: 25.7620 - TotalVariation2D: 18.3132 - Norm: 33.444 - ETA: 1s - Score: 25.6444 - TotalVariation2D: 18.1835 - Norm: - ETA: 0s - Score: 25.8037 - TotalVariation2D: 17.2657 - Norm: 33.173 - ETA: 0s - Score: 25.7109 - TotalVariation2D: 17.1506 - Norm: 33.1 - ETA: 0s - Score: 25.5343 - TotalVariation2D: 16.8165 - Norm: 33.055 - ETA: 0s - Score: 25.4746 - TotalVariation2D: 16.7117 - Norm: 33.025 - ETA: 0s - Score: 25.5971 - TotalVariation2D: 16.6128 - Norm: 32.995 - ETA: 0s - Score: 25.3721 - TotalVariation2D: 16.5608 - Norm: 32.98 - ETA: 0s - Score: 24.8155 - TotalVariation2D: 16.4098 - Norm: 32 - ETA: 0s - Score: 22.8893 - TotalVariation2D: 15.9364 - Norm: 32.790 - 7s 35ms/step - Score: 22.9796 - TotalVariation2D: 15.8887 - Norm: 32.7764\n",
      "200/200 [==============================] - 8s 40ms/step - Score: 200.3264 - TotalVariation2D: 40.2116 - Norm: 34.7851A: 7s - Score: 50.7073 - TotalVariation2D: 118.5670 - Norm: 38.4 - ETA: 7s - Score: 62.6566 - TotalVariation2D: 103.8800 - Norm: 38.55 - ETA: 7s - Score: 128.2233 - TotalVariation2D: 96.7113 - Nor - ETA: 8s - Score: 215.9737 - TotalVariation2D: 82.5752 - Norm: 38. - ETA: 7s - Score: 254.6210 - TotalVariation2D: 78.9576 - Norm: 3 - ETA: 6s - Score: 233.1048 - TotalVariation2D: 74.3587 - Norm: 38.08 - ETA: 6s - Score: 232.7848 - TotalVariation2D: 72.7927 - Norm: 38.03 - ETA: 6s - Score: 214.9392 - TotalVariation2D: 71.4470 - Norm: 3 - ETA: 6s - Score: 241.6577 - TotalVariation2D: 67.8939 - Norm: 37.85 - ETA: 6s - Score: 242.1337 - TotalVariation2D: 66.9003 - Norm: 37.81 - ETA: 6s - Score: 249.4396 - TotalVariation2D: 65.9786 - Norm: 3 - ETA: 5s - Score: 228.3152 - TotalVariation2D: 63.2654 - Norm: 37.64 - ETA: 5s - Score: 226.6372 - TotalVariation2D: 62.3777 - Norm: 37. - ETA: 5s - Score: 228.5482 - TotalVariation2D: 60.9616 - Norm: 37.51 - ETA: 5s - Score: 227.2753 - TotalVariation2D: 60.3750 - Norm: 37. - ETA: 5s - Score: 232.5635 - TotalVariation2D: 59.8053 - Norm: 37.43 - ETA: 5s - Score: 236.7622 - TotalVariation2D: 59.5016 - Norm: 37.41 - ETA: 5s - Score: 244.6585 - TotalVariation2D: 59.1947 - Norm: 37. - ETA: 5s - Score: 250.6386 - TotalVariation2D: 58.4382 - Norm: 3 - ETA: 5s - Score: 253.5456 - TotalVariation2D: 57.3157 - Norm: 37.22 - ETA: 5s - Score: 255.0238 - TotalVariation2D: 57.1121 - Norm: 37. - ETA: 5s - Score: 263.1616 - TotalVariation2D: 56.4716 - Norm: 37.14 - ETA: 5s - Score: 256.6432 - TotalVariation2D: 56.0617 - Norm: 37.10 - ETA: 4s - Score: 257.6114 - TotalVariation2D: 55.6556 - N - ETA: 4s - Score: 251.2207 - TotalVariation2D: 53.1908 - Norm: 36.80 - ETA: 4s - Score: 248.9592 - TotalVariation2D: 52.7791 - Norm: 3 - ETA: 4s - Score: 247.7383 - TotalVariation2D: 51.9755 - Nor - ETA: 4s - Score: 243.9928 - TotalVariation2D: 51. - ETA: 3s - Score: 231.3333 - TotalVariation2D: 48.4038 - Norm: - ETA: 3s - Score: 231.4685 - TotalVariation2D: 47.3171 - - ETA: 3s - Score: 232.0063 - TotalVariation2D: 46.1682 - Nor - ETA: 2s - Score: 225.1095 - TotalVariation2D: 45.2128 - Norm: 35. - ETA: 2s - Score: 226.1076 - TotalVariation2D: 44.8125 - Norm: 35.73 - ETA: 2s - Score: 226.2106 - TotalVariation2D: 44.6257 - Norm: 35.69 - ETA: 2s - Score: 226.0577 - TotalVariation2D: 44.4390 - ETA: 1s - Score: 215.4198 - TotalVariation2D: 43.1123 - Norm: 35.39 - ETA: 1s - Score: 216.4902 - TotalVariation2D: 42.9489 - Norm: 3 - ETA: 1s - Score: 209.5316 - TotalVariation2D: 42.4445 - Norm: 35.26 - ETA: 1s - Score: 206.7941 - TotalVariation2D: 42.2757 - N - ETA: 0s - Score: 198.3132 - TotalVariation2D: 41.3159 - Norm: 35.03 - ETA: 0s - Score: 197.1248 - TotalVariation2D: 41.1661 - Norm: 35.00 - ETA: 0s - Score: 198.5119 - TotalVariation2D: 41.0233 - Norm: 34.97 - ETA: 0s - Score: 199.2579 - TotalVariation2D: 40.8905 - Norm: 3 - ETA: 0s - Score: 197.3732 - TotalVariation2D: 40.5409 - Norm: 34.86 - ETA: 0s - Score: 198.2923 - TotalVariation2D: 40.4060 - Norm: 34.83 - ETA: 0s - Score: 201.0677 - TotalVariation2D: 40.2750 - Norm: 34.80\n"
     ]
    },
    {
     "name": "stdout",
     "output_type": "stream",
     "text": [
      "200/200 [==============================] - 8s 38ms/step - Score: 327.0359 - TotalVariation2D: 30.8076 - Norm: 37.0445A: 6s - Score: 245.9229 - TotalVariation2D: 114.7994 - Norm: 38.06 - ETA: 6s - Score: 323.1164 - TotalVariation2D: 98.2781 - Norm: 37.993 - ETA: 6s - Score: 307.0582 - TotalVariation2D: 95.0216 - Norm: 3 - ETA: 6s - Score: 371.4245 - TotalVariation2D: 81.4624 - Norm: 37.80 - ETA: 6s - Score: 403.0912 - TotalVariation2D: 78.6963 - Norm: 37. - ETA: 6s - Score: 476.2749 - TotalVariation2D: 74.6121 - - ETA: 5s - Score: 451.1260 - TotalVariation2D: 63.9674 - Norm: 37.59 - ETA: 5s - Score: 438.8716 - TotalVariation2D: 62.8298 - Norm: - ETA: 5s - Score: 444.7218 - TotalVariation2D: 59.2088 - Norm: 37.53 - ETA: 5s - Score: 437.4558 - TotalVariation2D: 58.4308 - Nor - ETA: 4s - Score: 441.4973 - TotalVariation2D: 54.6604 - Norm: 37.48 - ETA: 4s - Score: 430.4147 - TotalVariation2D: 53.9620 - Norm: 37.47 - ETA: 4s - Score: 436.8772 - TotalVariation2D: 53.2639 - - ETA: 4s - Score: 463.6762 - TotalVariation2D: 49.5777 - Norm: 37.41 - ETA: 4s - Score: 472.9831 - TotalVariation2D: 49.0707 - Norm: 37.40 - ETA: 4s - Score: 462.4932 - TotalVariation2D: 48.5310 - Nor - ETA: 3s - Score: 473.9173 - TotalVariation2D: 46.1797 - Norm: 3 - ETA: 3s - Score: 460.0648 - TotalVariation2D: 44.8578 - Norm: 37.33 - ETA: 3s - Score: 459.1093 - TotalVariation2D: 44.4438 - Norm: 3 - ETA: 3s - Score: 442.2710 - TotalVariation2D: 43.2017 - Norm: 37.31 - ETA: 3s - Score: 443.2538 - TotalVariation2D: 42.7884 - Norm: 37.30 - ETA: 3s - Score: 447.3856 - TotalVariation2D: 42.4003 - Norm: 37.30 - ETA: 3s - Score: 442.2415 - TotalVariation2D: 42.0321 - Norm: 37.29 - ETA: 3s - Score: 441.4150 - TotalVariation2D: 41.8451 - Norm: - ETA: 2s - Score: 437.6901 - TotalVariation2D: 40.4003 - N - ETA: 2s - Score: 435.4400 - TotalVariation2D: 39.2410 - Norm: 37.25 - ETA: 2s - Score: 429.0440 - TotalVariation2D: 38.9544 - Norm: 37.24 - ETA: 2s - Score: 427.3338 - TotalVariation2D: 38.6716 - Norm: 3 - ETA: 2s - Score: 411.7723 - TotalVariation2D: 37.8403 - ETA: 1s - Score: 395.0615 - TotalVariation2D: 35.8597 - Norm: 37.16 - ETA: 1s - Score: 388.1320 - TotalVariation2D: 35.6168 - Norm: - ETA: 1s - Score: 374.5052 - TotalVariation2D: 34.6475 - Norm: 37.13 - ETA: 1s - Score: 373.8192 - TotalVariation2D: 34.4220 - Norm: 37.12 - ETA: 1s - Score: 371.9413 - TotalVariation2D: 34.3057 - Norm: 37.12 - ETA: 1s - Score: 369.2635 - TotalVariation2D: 34.0772 - Norm: 3 - ETA: 0s - Score: 363.0234 - TotalVariation2D: 33.5207 - Norm: 37. - ETA: 0s - Score: 355.4673 - TotalVariation2D: 33.0914 - Norm: 37.09 - ETA: 0s - Score: 354.1866 - TotalVariation2D: 32.9875 - Norm: 37.09 - ETA: 0s - Score: 352.1519 - TotalVariation2D: 32.8782 - Norm: - ETA: 0s - Score: 345.3153 - TotalVariation2D: 32.4588 - Norm: 3 - ETA: 0s - Score: 340.4451 - TotalVariation2D: 32.0576 - Norm: 37.07 - ETA: 0s - Score: 338.9520 - TotalVariation2D: 31.9593 - Norm: 37. - ETA: 0s - Score: 336.4427 - TotalVariation2D: 31.7546 - Norm: 37.06 - ETA: 0s - Score: 335.9398 - TotalVariation2D: 31.6559 - Norm: 37. - ETA: 0s - Score: 332.0997 - TotalVariation2D: 31.3597 - Norm: 37.05 - ETA: 0s - Score: 330.5175 - TotalVariation2D: 31.1717 - Norm: 37. - ETA: 0s - Score: 329.1194 - TotalVariation2D: 30.9877 - Norm: 37.04 - ETA: 0s - Score: 327.5255 - TotalVariation2D: 30.8972 - Norm: 37.04\n",
      "200/200 [==============================] - 8s 42ms/step - Score: 479.2029 - TotalVariation2D: 39.0256 - Norm: 36.1400A: 7s - Score: 463.0372 - TotalVariation2D: 114.8808 - Norm: 38.93 - ETA: 7s - Score: 576.3760 - TotalVariation2D: 111.5964 - Norm: 38.90 - ETA: 6s - Score: 712.4307 - TotalVariation2D: 106.5823 - Nor - ETA: 6s - Score: 903.5593 - TotalVariation2D: 93.4777 - Norm: 38.29 - ETA: 6s - Score: 937.9851 - TotalVariation2D: 91.8317 - ETA: 7s - Score: 923.8287 - TotalVariation2D: 83.9194 - Nor - ETA: 6s - Score: 861.0128 - TotalVariation2D: 77.0334 - Norm: 37.56 - ETA: 6s - Score: 856.8378 - TotalVariation2D: 76.3401 - Norm: 37. - ETA: 6s - Score: 839.2694 - TotalVariation2D: 74.3871 - Norm: 37.45 - ETA: 6s - Score: 826.9587 - TotalVariation2D: 73.7787 - Norm: - ETA: 6s - Score: 782.4725 - TotalVariation2D: 7 - ETA: 5s - Score: 711.3733 - TotalVariation2D: 62.3784 - Norm: 37.00 - ETA: 5s - Score: 715.8124 - TotalVariation2D: 62.0156 - Norm: 36.99 - ETA: 5s - Score: 709.0450 - TotalVariation2D: 61.6533 - Norm: 36.98 - ETA: 5s - Score: 705.3583 - TotalVariation2D: 61.2934 - Norm: 36.96 - ETA: 5s - Score: 701.9261 - TotalVariation2D: 60.9409 - Norm: 36.95 - ETA: 5s - Score: 700.7226 - TotalVariation2D: 60.5937 - Norm: 3 - ETA: 5s - Score: 688.6456 - TotalVariation2D: 59.25 - ETA: 4s - Score: 645.9118 - TotalVariation2D: 53.8180 - Norm: 36.71 - ETA: 3s - Score: 637.9897 - TotalVariation2D: 53.3155 - N - ETA: 3s - Score: 607.5410 - TotalVariation2D: 50.8320 - Norm: 36.59 - ETA: 3s - Score: 603.2911 - TotalVariation2D: 50.4257 - Norm: 36. - ETA: 3s - Score: 599.2515 - TotalVariation2D: 49.8149 - Norm: 36.55 - ETA: 3s - Score: 595.1719 - TotalVariation2D: 49.6177 - Norm: 36.54 - ETA: 3s - Score: 593.8281 - TotalVariation2D: 49.4199 - Norm: 36. - ETA: 2s - Score: 587.1841 - TotalVariation2D: 48.8164 - Norm: 36.51 - ETA: 2s - Score: 584.1603 - TotalVariation2D: 48.4293 - Norm: 36. - ETA: 2s - Score: 578.4365 - TotalVariation2D: 47.8660 - Norm: 36.47 - ETA: 2s - Score: 580.0491 - TotalVariation2D: 47.6858 - Norm: 36. - ETA: 2s - Score: 578.5413 - TotalVariation2D: 47.3511 - Norm: 36. - ETA: 2s - Score: 575.5101 - TotalVariation2D: 46.8696 - Norm: 36.42 - ETA: 2s - Score: 568.5652 - TotalVariation2D: 46.5683 - Norm: 36. - ETA: 2s - Score: 560.7932 - TotalVariation2D: 45.9295 - Norm: 36.38 - ETA: 2s - Score: 557.5630 - TotalVariation2D: 45.7782 - Norm: 36.38 - ETA: 2s - Score: 555.1121 - TotalVariation2D: 45.6263 - Norm: 36.37 - ETA: 2s - Score: 554.0450 - TotalVariation2D: 45.3235 - Norm: 36. - ETA: 1s - Score: 546.0544 - TotalVariation2D: 44.7163 - Norm: 36.33 - ETA: 1s - Score: 541.8303 - TotalVariation2D: 44.4224 - Norm: 36.32 - ETA: 1s - Score: 539.5212 - TotalVariation2D: 44.1336 - Norm: 36.31 - ETA: 1s - Score: 538.4233 - TotalVariation2D: 43.8420 - Norm: 36. - ETA: 1s - Score: 528.9839 - TotalVariation2D: 43.2624 - Norm: 3 - ETA: 1s - Score: 516.3826 - TotalVariation2D: 42.4034 - Norm: 36.25 - ETA: 1s - Score: 513.5653 - TotalVariation2D: 42.1244 - Norm: - ETA: 0s - Score: 501.6441 - TotalVariation2D: 41.0862 - Norm: 36. - ETA: 0s - Score: 494.1065 - TotalVariation2D: 40.5854 - Norm: 36.19 - ETA: 0s - Score: 490.1820 - TotalVariation2D: 40.3474 - Norm: 36.18 - ETA: 0s - Score: 487.1018 - TotalVariation2D: 40.1116 - Norm: 36.17 - ETA: 0s - Score: 484.7122 - TotalVariation2D: 39.8824 - Nor\n"
     ]
    },
    {
     "name": "stdout",
     "output_type": "stream",
     "text": [
      "200/200 [==============================] - 7s 37ms/step - Score: 574.9712 - TotalVariation2D: 40.0396 - Norm: 33.1485A: 13s - Score: 109.8203 - TotalVariation2D: 111.3225 - Norm: 38.79 - ETA: 12s - Score: 173.3004 - TotalVariation2D: 106.8983 - Norm: 38.75 - ETA: 10s - Score: 143.0177 - TotalVariation2D: 97.9692 - Norm: 38.76 - ETA: 8s - Score: 338.5241 - TotalVariation2D: 88.4692 - Norm: 38. - ETA: 7s - Score: 494.4432 - TotalVariation2D: 82.7324 - Norm: 38.57 - ETA: 7s - Score: 596.9283 - TotalVariation2D: 81.4508 - - ETA: 6s - Score: 686.5093 - TotalVariation2D: 71.6152 - Norm: 37. - ETA: 6s - Score: 681.2308 - TotalVariation2D: 69.3662 - Norm: 37. - ETA: 5s - Score: 720.6133 - TotalVariation2D: 67.4581 - Norm: 37.33 - ETA: 5s - Score: 717.8326 - TotalVariation2D: 66.5661 - Norm: 3 - ETA: 5s - Score: 729.1544 - TotalVariation2D: 64.0833 - Norm: 36.98 - ETA: 5s - Score: 737.0613 - TotalVariation2D: 63.3912 - Norm: 3 - ETA: 5s - Score: 722.9628 - TotalVariation2D: 61.5862 - Norm: 36.66 - ETA: 5s - Score: 711.5001 - TotalVariation2D: 61.0214 - Norm: 36. - ETA: 4s - Score: 722.9410 - TotalVariation2D: 59.9744 - Norm: - ETA: 4s - Score: 742.1812 - TotalVariation2D: 58.0821 - Norm: 36. - ETA: 4s - Score: 736.8964 - TotalVariation2D: 57.1928 - Norm: 35.99 - ETA: 4s - Score: 731.2363 - TotalVariation2D: 56.7531 - Norm: 35.93 - ETA: 4s - Score: 726.5286 - TotalVariation2D: 56.5193 - Norm: 35. - ETA: 4s - Score: 722.3712 - TotalVariation2D: 55.7290 - Norm: 35. - ETA: 4s - Score: 722.0863 - TotalVariation2D: 54.9353 - Norm: 35. - ETA: 3s - Score: 712.6740 - TotalVariation2D: 54.0996 - Norm: 35. - ETA: 3s - Score: 721.7918 - TotalVariation2D: 53.5605 - Norm: 35.44 - ETA: 3s - Score: 719.0916 - TotalVariation2D: 53.3875 - Norm: 35.41 - ETA: 3s - Score: 715.2028 - TotalVariation2D: 53.0492 - Norm: 3 - ETA: 3s - Score: 714.5037 - TotalVariation2D: 52.0864 - Norm: 35.18 - ETA: 3s - Score: 712.5950 - TotalVariation2D: 51.7693 - Norm: 35.13 - ETA: 3s - Score: 711.7699 - TotalVariation2D: 51.4538 - Norm: 35.08 - ETA: 3s - Score: 704.6059 - TotalVariation2D: 51.1304 - Norm: 35.02 - ETA: 3s - Score: 698.2836 - TotalVariation2D: 50.8161 - Norm: 34. - ETA: 3s - Score: 696.2921 - TotalVariation2D: 50.1910 - Norm: 34.87 - ETA: 3s - Score: 699.7448 - TotalVariation2D: 49.8873 - Norm: 3 - ETA: 2s - Score: 691.3245 - TotalVariation2D: 49.0007 - Norm: 34.68 - ETA: 2s - Score: 687.4889 - TotalVariation2D: 48.7120 - Norm: 34.64 - ETA: 2s - Score: 688.0161 - TotalVariation2D: 48.5687 - Norm: 34. - ETA: 2s - Score: 684.3621 - TotalVariation2D: 48.1412 - Norm: 34.55 - ETA: 2s - Score: 678.2478 - TotalVariation2D: 47.8655 - Norm: 34.50 - ETA: 2s - Score: 674.3455 - TotalVariation2D: 47.5856 - Norm: 34.46 - ETA: 2s - Score: 673.8190 - TotalVariation2D: 47.3205 - N - ETA: 1s - Score: 659.9861 - TotalVariation2D: 45.8345 - Norm: 3 - ETA: 1s - Score: 647.6488 - TotalVariation2D: 45.1166 - Norm: 34.05 - ETA: 1s - Score: 645.9795 - TotalVariation2D: 44.9954 - Norm: 3 - ETA: 1s - Score: 636.0546 - TotalVariation2D: 44.3961 - Norm: 33.94 - ETA: 1s - Score: 632.4907 - TotalVariation2D: 44.1634 - Norm: 33. - ETA: 1s - Score: 624.7589 - TotalVariation2D: 43.7054 - Norm: 33.82 - ETA: 1s - Score: 622.6043 - TotalVariation2D: 43.4860 - Norm: - ETA: 1s - Score: 614.1516 - TotalVariation2D: 42.7597 - Norm: 33.65 - ETA: 0s - Score: 611.1388 - TotalVariation2D: 42.5624 - Norm: 33.61 - ETA: 0s - Score: 607.0766 - TotalVariation2D: 42.3632 - Norm: 33. - ETA: 0s - Score: 604.2363 - TotalVariation2D: 41.9809 - Norm: 3 - ETA: 0s - Score: 594.2396 - TotalVariation2D: 41.4225 - Norm: 33.40 - ETA: 0s - Score: 590.6434 - TotalVariation2D: 41.2394 - Norm: 33.36 - ETA: 0s - Score: 587.2019 - TotalVariation2D: 41.0534 - Norm: 33.33 - ETA: 0s - Score: 586.1456 - TotalVariation2D: 40.95 - ETA: 0s - Score: 575.9457 - TotalVariation2D: 40.1289 - Norm: 33.16\n",
      "200/200 [==============================] - 8s 39ms/step - Score: -18.6697 - TotalVariation2D: 18.0847 - Norm: 39.9688A: 11s - Score: 162.2805 - TotalVariation2D: 110.8292 - Norm: 38.61 - ETA: 11s - Score: 160.3672 - TotalVariation2D: 106.3185 - Norm: 38.60 - ETA: 11s - Score: 175.9860 - TotalVariation2D: 101.9022 - Nor - ETA: 10s - Score: 133.7006 - TotalVariation2D: 74.9314 - Norm: 38 - ETA: 9s - Score: 75.1123 - TotalVariation2D: 66.2297 - Norm: 38.410 - ETA: 9s - Score: 66.0086 - TotalVariation2D: 64.9363 - Norm: 38.4 - ETA: 9s - Score: 66.3644 - TotalVariation2D: 59.6551 - Norm: 38 - ETA: 8s - Score: 58.2956 - TotalVariation2D: 52.8533 - Norm: 38.404 - ETA: 7s - Score: 59.1540 - TotalVariation2D: 51.4530 - Norm: 38.401 - ETA: 7s - Score: 56.6977 - TotalVariation2D: 50.1534 - Norm: 38.4 - ETA: 7s - Score: 53.1072 - TotalVariation2D: 46.5431 - Norm: 38.405 - ETA: 6s - Score: 48.8148 - TotalVariation2D: 45.5277 - Norm: 38.4 - ETA: 6s - Score: 41.1819 - TotalVariation2D: 42.7057 - Norm: 38.442 - ETA: 6s - Score: 38.7931 - TotalVariation2D: 41.8269 - Norm: 38.4 - ETA: 5s - Score: 33.2702 - TotalVariation2D: 39.3614 - Norm: 38 - ETA: 5s - Score: 22.7513 - TotalVariation2D: 35.7956 - Norm: 38.56 - ETA: 5s - Score: 20.5489 - TotalVariation2D: 34.5262 - Norm: 38.604 - ETA: 4s - Score: 19.2377 - TotalVariation2D: 33.9385 - Norm: 38.624 - ETA: 4s - Score: 18.4168 - TotalVariation2D: 33.6525 - Norm: 38.633 - ETA: 4s - Score: 17.4904 - TotalVariation2D: 33.0868 - Norm: 38.653 - ETA: 4s - Score: 15.6197 - TotalVariation2D: 32.5560 - Norm: 38.6 - ETA: 4s - Score: 11.7242 - TotalVariation2D: 31.0745 - Norm: 38.733 - ETA: 4s - Score: 10.8674 - TotalVariation2D: 30.6116 - Norm: 38.754 - ETA: 4s - Score: 9.5060 - TotalVariation2D: 30.1778 - Norm: 38 - ETA: 3s - Score: 6.8644 - TotalVariation2D: 28.9383 - Norm: 38.84 - ETA: 3s - Score: 6.0857 - TotalVariation2D: 28.5511 - Norm: 38.86 - ETA: 3s - Score: 4.7429 - TotalVariation2D: 28.1805 - Norm: 38. - ETA: 3s - Score: 3.1848 - TotalVariation2D: 27.4671 - Norm: - ETA: 3s - Score: -0.5664 - TotalVariation2D: 26.1172 - Norm: 39.01 - ETA: 2s - Score: -1.7320 - TotalVariation2D: 25.4969 - Norm: 39.063 - ETA: 2s - Score: -2.2838 - TotalVariation2D: 25.1948 - Norm: 39.085 - ETA: 2s - Score: -2.9968 - TotalVariation2D: 24.9104 - Norm: 39.1 - ETA: 2s - Score: -4.9967 - TotalVariation2D: 24.2386 - Norm: 39.16 - ETA: 2s - Score: -5.8011 - TotalVariation2D: 23.8656 - Norm: 39.198 - ETA: 2s - Score: -5.8367 - TotalVariation2D: 23.7450 - Norm: 39.210 - ETA: 2s - Score: -6.2267 - TotalVariation2D: 23.6233 - Norm: 39.2 - ETA: 2s - Score: -7.5268 - TotalVariation2D: 23.1442 - Norm: 39.26 - ETA: 2s - Score: -8.5811 - TotalVariation2D: 22.6827 - Norm: 39.315 - ETA: 2s - Score: -9.4469 - TotalVariation2D: 22.4594 - Norm: 39.339 - ETA: 1s - Score: -10.0805 - TotalVariation2D: 22.2459 - Nor - ETA: 1s - Score: -11.7497 - TotalVariation2D: 21.2326 - Norm: 39.48 - ETA: 1s - Score: -12.3087 - TotalVariation2D: 21.0451 - Norm: 39.50 - ETA: 1s - Score: -12.8203 - TotalVariation2D: 20.8632 - Norm: - ETA: 1s - Score: -14.7156 - TotalVariation2D: 20.1549 - Norm: 39. - ETA: 0s - Score: -15.3087 - TotalVariation2D: 19.8341 - Norm: 39.67 - ETA: 0s - Score: -15.3635 - TotalVariation2D: 19.6743 - Norm: 39.70 - ETA: 0s - Score: -15.7184 - TotalVariation2D: 19.5131 - Norm: 39. - ETA: 0s - Score: -16.1550 - TotalVariation2D: 19.2020 - Norm: 39. - ETA: 0s - Score: -16.9188 - TotalVariation2D: 18.9017 - Norm: 39.82 - ETA: 0s - Score: -17.1901 - TotalVariation2D: 18.7607 - Norm: 39. - ETA: 0s - Score: -17.5939 - TotalVariation2D: 18.6200 - Nor\n"
     ]
    },
    {
     "name": "stdout",
     "output_type": "stream",
     "text": [
      "200/200 [==============================] - ETA: 0s - Score: 58.9428 - TotalVariation2D: 18.6486 - Norm: 29.41293 ETA: 6s - Score: 195.3872 - TotalVariation2D: 84.2704 - Norm: 36. - ETA: 6s - Score: 156.0044 - TotalVariation2D: 73.4971 - Norm: 36. - ETA: 6s - Score: 100.9559 - TotalVariation2D: 65.2849 - Norm: 36.27 - ETA: 5s - Score: 106.6092 - TotalVariation2D: 62.1246 - Norm: 36.15 - ETA: 5s - Score: 84.2810 - TotalVariation2D: 59.4504 - Norm: 36.034 - ETA: 6s - Score: 94.7656 - TotalVariation2D: 56.9860 - Norm: 35.92 - ETA: 6s - Score: 97.9663 - TotalVariation2D: 54.7310 - Norm: - ETA: 6s - Score: 91.0803 - TotalVariation2D: 42.5877 - Norm: 3 - ETA: 5s - Score: 89.9047 - TotalVariation2D: 37.0290 - Norm: 34.3 - ETA: 5s - Score: 84.5648 - TotalVariation2D: 34.9680 - Norm: 34.10 - ETA: 5s - Score: 86.5141 - TotalVariation2D: 33.8109 - Norm: 33.929 - ETA: 5s - Score: 83.7993 - TotalVariation2D: 33.2637 - Norm: 33. - ETA: 4s - Score: 80.2010 - TotalVariation2D: 31.2085 - Norm: 33.499 - ETA: 4s - Score: 79.2758 - TotalVariation2D: 30.7410 - Norm: 33. - ETA: 4s - Score: 78.6981 - TotalVariation2D: 29.0425 - Norm: 33.08 - ETA: 4s - Score: 77.1062 - TotalVariation2D: 28.3116 - Norm: 32.929 - ETA: 4s - Score: 74.9043 - TotalVariation2D: 27.9668 - Norm: 32.851 - ETA: 4s - Score: 74.8048 - TotalVariation2D: 27.8065 - Norm: 32.812 - ETA: 4s - Score: 73.5540 - TotalVariation2D: 27.4926 - Norm: 32 - ETA: 3s - Score: 70.0117 - TotalVariation2D: 25.9872 - Norm: 32.374 - ETA: 3s - Score: 68.8294 - TotalVariation2D: 25.6984 - Norm: 32.306 - ETA: 3s - Score: 68.3481 - TotalVariation2D: 25.5603 - Norm: 32.271 - ETA: 3s - Score: 67.3702 - TotalVariation2D: 25.2847 - Norm: 32.203 - ETA: 3s - Score: 66.1527 - TotalVariation2D: 25.0133 - Norm: 32.13 - ETA: 3s - Score: 64.4367 - TotalVariation2D: 24.5045 - Norm: 32.002 - ETA: 3s - Score: 63.9473 - TotalVariation2D: 24.2588 - Norm: 31.936 - ETA: 3s - Score: 63.5916 - TotalVariation2D: 24.0223 - Norm: 31.870 - ETA: 3s - Score: 63.4426 - TotalVariation2D: 23.9024 - Norm: 31.837 - ETA: 3s - Score: 63.4566 - TotalVariation2D: 23.7905 - Norm: 31.805 - ETA: 2s - Score: 63.4864 - TotalVariation2D: 23.5749 - Norm: 31. - ETA: 2s - Score: 64.8901 - TotalVariation2D: 22.8123 - Norm: 31.481 - ETA: 2s - Score: 64.9649 - TotalVariation2D: 22.6563 - Norm: 31 - ETA: 2s - Score: 64.3942 - TotalVariation2D: 21.8734 - Norm:  - ETA: 1s - Score: 64.9023 - TotalVariation2D: 20.9393 - Norm: 30.65 - ETA: 1s - Score: 63.4006 - TotalVariation2D: 20.6936 - Norm: 30.530 - ETA: 1s - Score: 63.6734 - TotalVariation2D: 20.6311 - Norm: 30.499 - ETA: 1s - Score: 63.3655 - TotalVariation2D: 20.5126 - Norm: 30.4 - ETA: 1s - Score: 62.7424 - TotalVariation2D: 20.1690 - Norm: 30.25 - ETA: 1s - Score: 62.9842 - TotalVariation2D: 19.9584 - Norm: 30.135 - ETA: 0s - Score: 62.8066 - TotalVariation2D: 19.8537 - Norm: 30.075 - ETA: 0s - Score: 63.2573 - TotalVariation2D: 19.8002 - Norm: 30.045 - ETA: 0s - Score: 62.4431 - TotalVariation2D: 19.7507 - Norm: 30.015 - ETA: 0s - Score: 62.5876 - TotalVariation2D: 19.6555 - Norm: 29.956 - ETA: 0s - Score: 61.8942 - TotalVariation2D: 19.6059 - Norm: 29.926 - ETA: 0s - Score: 61.1977 - TotalVariation2D: 19.5029 - Norm: 29.867 - ETA: 0s - Score: 60.9673 - TotalVariation2D: 19.3976 - Norm: 2 - ETA: 0s - Score: 58.9937 - TotalVariation2D: 18.7493 - Norm: 29.46 - ETA: 0s - Score: 59.2718 - TotalVariation2D: 18.5500 - Norm: 29.356 - 7s 37ms/step - Score: 59.3957 - TotalVariation2D: 18.4586 - Norm: 29.3005\n",
      "200/200 [==============================] - 9s 46ms/step - Score: -91.0564 - TotalVariation2D: 14.7095 - Norm: 36.8479A: 7s - Score: 90.3852 - TotalVariation2D: 108.0128 - Norm: - ETA: 6s - Score: -109.0377 - TotalVariation2D: 72.7607 - Norm: 3 - ETA: 6s - Score: -95.0521 - TotalVariation2D: 52.2932 - Norm: 37.168 - ETA: 6s - Score: -91.4353 - TotalVariation2D: 49.7656 - Nor - ETA: 5s - Score: -103.5186 - TotalVariation2D: 39.0301 - Norm: 37.112 - ETA: 5s - Score: -103.2893 - TotalVariation2D: 37.7180 - Norm: 37.108 - ETA: 5s - Score: -98.1720 - TotalVariation2D: 36.4869 - Norm: 37 - ETA: 5s - Score: -89.8589 - TotalVariation2D: 33.7586 - Norm: 37.09 - ETA: 5s - Score: -88.6518 - TotalVariation2D: 33.3720 - Norm: 37. - ETA: 5s - Score: -86.3574 - TotalVariation2D: 31.9647 - Norm: 37. - ETA: 5s - Score: -85.0669 - TotalVariation2D: 30.8034 - Norm: 37. - ETA: 4s - Score: -85.6809 - TotalVariation2D: 30.0055 - Norm: 37. - ETA: 4s - Score: -82.3687 - TotalVariation2D: 29.2116 - Norm: 37.05 - ETA: 4s - Score: -85.9200 - TotalVariation2D: 28.7243 - Norm: 37.04 - ETA: 4s - Score: -87.2425 - TotalVariation2D: 28.2395 - Norm: 37.04 - ETA: 4s - Score: -87.9559 - TotalVariation2D: 27.9958 - Norm: 37.04 - ETA: 4s - Score: -85.2428 - TotalVariation2D: 27.5245 - Norm: 37.03 - ETA: 4s - Score: -87.4530 - TotalVariation2D: 27.0597 - Norm: 37.03 - ETA: 4s - Score: -87.7445 - TotalVariation2D: 26.8355 - Norm: 37. - ETA: 4s - Score: -88.1697 - TotalVariation2D: 26.1759 - Nor - ETA: 4s - Score: -88.2934 - TotalVariation2D: 24.8894 - Norm: 37.00 - ETA: 4s - Score: -88.2133 - TotalVariation2D: 24.7188 - Norm: 37. - ETA: 4s - Score: -87.3788 - TotalVariation2D: 24.2296 - Nor - ETA: 4s - Score: -90.2651 - TotalVariation2D: 23.1780 - Norm: 36.99 - ETA: 4s - Score: -90.5142 - TotalVariation2D: 22.9096 - Norm: 36.98 - ETA: 3s - Score: -90.9397 - TotalVariation2D: 22.7738 - Norm: 36.98 - ETA: 3s - Score: -90.8596 - TotalVariation2D: 22.6445 - Norm: 36. - ETA: 3s - Score: -90.2833 - TotalVariation2D: 22.2493 - Norm: 3 - ETA: 3s - Score: -90.0345 - TotalVariation2D: 21.6115 - Nor - ETA: 3s - Score: -90.9975 - TotalVariation2D: 20.4450 - Norm: 36.98 - ETA: 3s - Score: -90.5828 - TotalVariation2D: 20.2384 - Norm: 36. - ETA: 3s - Score: -91.4805 - TotalVariation2D: 19.9480 - Norm: 36.97 - ETA: 3s - Score: -91.9024 - TotalVariation2D: 19.8574 - Norm: 36.97 - ETA: 2s - Score: -92.0537 - TotalVariation2D: 19.6721 - Norm: 36.97 - ETA: 2s - Score: -91.9011 - TotalVariation2D: 19.5804 - Norm: 36.97 - ETA: 2s - Score: -92.2094 - TotalVariation2D: 19.4881 - Norm: 3 - ETA: 2s - Score: -92.5967 - TotalVariation2D: 19.2153 - Norm: 36. - ETA: 2s - Score: -92.3047 - TotalVariation2D: 19.0322 - Norm: 36.97 - ETA: 2s - Score: -92.3686 - TotalVariation2D: 18.9464 - Norm: 3 - ETA: 2s - Score: -92.9506 - TotalVariation2D: 18.6923 - - ETA: 2s - Score: -91.1141 - TotalVariation2D: 17.8978 - Norm: 36. - ETA: 2s - Score: -91.5815 - TotalVariation2D: 17.7620 - Norm: 36.95 - ETA: 2s - Score: -91.3781 - TotalVariation2D: 17.6956 - Norm: 36.95 - ETA: 2s - Score: -91.6984 - TotalVariation2D: 17.6280 - Norm: 36. - ETA: 2s - Score: -91.1864 - TotalVariation2 - ETA: 1s - Score: -91.7977 - TotalVariation2D: 16.2299 - Norm: 3 - ETA: 1s - Score: -91.8548 - TotalVariation2D: 15.9576 - Norm: 36.90 - ETA: 1s - Score: -91.7840 - TotalVariation2D: 15.9039 - Norm: 36.90 - ETA: 0s - Score: -91.5701 - TotalVariation2D: 15.7949 - - ETA: 0s - Score: -91.5372 - TotalVariation2D: 15.3617 - Norm: 3 - ETA: 0s - Score: -91.4008 - TotalVariation2D: 15.21 - ETA: 0s - Score: -90.9666 - TotalVariation2D: 14.7502 - Norm: 36.85\n"
     ]
    },
    {
     "name": "stdout",
     "output_type": "stream",
     "text": [
      "200/200 [==============================] - ETA: 0s - Score: 298.9449 - TotalVariation2D: 29.3175 - Norm: 35.62799  ETA: 13s - Score: 457.0688 - TotalVariation2D: 113.3089 - Norm: 38.12 - ETA: 13s - Score: 472.4214 - TotalVariation2D: 109.5502 - Norm: 38.09 - ETA: 13s - Score: 458.6272 - TotalVariation2D: 106.1776 - Norm: 38. - ETA: 12s - Score: 431.5842 - TotalVariation2D: 100.6517 - Norm: 38.0 - ETA: 12s - Score: 488.9085 - TotalVariation2D: 95.6915 - Norm:  - ETA: 12s - Score: 534.3368 - TotalVariation2D: 84.1853 - Norm: 37.6 - ETA: 12s - Score: 516.5373 - TotalVariation2D: 80.2331 - Norm: 37.587 - ETA: 11s - Score: 503.5506 - TotalVariation2D: 77.7748 - Norm: 37.520 - ETA: 11s - Score: 485.8214 - TotalVariation2D: 75.4089 - Norm: 37.4 - ETA: 11s - Score: 493.4661 - TotalVariation2D: 72.3327 - Norm: 37.373 - ETA: 11s - Score: 495.4251 - TotalVariation2D: 71.4888 - Norm:  - ETA: 10s - Score: 498.6654 - TotalVariation2D: 66.2721 - Norm: 37.183 - ETA: 10s - Score: 483.8103 - TotalVariation2D: 65.6293 - Norm: 37.161 - ETA: 10s - Score: 486.3080 - TotalVariation2D: 64.9509 - Norm:  - ETA: 10s - Score: 476.6876 - TotalVariation2D: 60.0311 - Norm: 36 - ETA: 10s - Score: 464.3178 - TotalVariation2D: 57.4245 - Norm: 36.897 - ETA: 9s - Score: 457.6277 - TotalVariation2D: 56.9543 - Norm - ETA: 9s - Score: 461.7162 - TotalVariation2D: 54.7253 - Norm: 36. - ETA: 9s - Score: 451.2797 - TotalVariation2D: 53.9377 - Norm: 36.78 - ETA: 9s - Score: 447.0101 - TotalVariation2D: 53.5567 - ETA: 8s - Score: 443.7393 - TotalVariation2D: 50.5357 - Norm: - ETA: 8s - Score: 449.3823 - TotalVariation2D: 49.4451 - Norm: 3 - ETA: 8s - Score: 441.6467 - TotalVariation2D: 48.6985 - Norm: 36.56 - ETA: 8s - Score: 439.7766 - TotalVariation2D: 48.4316 - Norm: 36.55 - ETA: 8s - Score: 445.0806 - TotalVariation2D: 48.1644 - Norm: 36. - ETA: 8s - Score: 438.0101 - TotalVariation2D: 47.6439 - Nor - ETA: 7s - Score: 424.4967 - TotalVariation2D: 45.7797 - Norm: 36. - ETA: 7s - Score: 420.4648 - TotalVariation2D: 45.2650 - Norm: 36.41 - ETA: 7s - Score: 418.1311 - TotalVariation2D: 44.7698 - Norm: 36. - ETA: 6s - Score: 406.8102 - TotalVariation2D: 43.7708 - Norm: 36.34 - ETA: 6s - Score: 407.1529 - TotalVariation2D: 43.5312 - Norm: 36.34 - ETA: 6s - Score: 405.5289 - TotalVariation2D: 43.2937 - Norm: 36.33 - ETA: 6s - Score: 401.6787 - TotalVariation2D: 42.8338 - Norm: 36. - ETA: 5s - Score: 393.4178 - TotalVariation2D: 41.9153 - Norm: 36.27 - ETA: 5s - Score: 392.8894 - TotalVariation2D: 41.4865 - N - ETA: 4s - Score: 374.0018 - TotalVariation2D: 39.0996 - Norm: - ETA: 4s - Score: 366.8868 - TotalVariation2D: 38.3746 - Norm: 3 - ETA: 4s - Score: 364.7808 - TotalVariation2D: 37.8316 - Norm: 36.10 - ETA: 4s - Score: 362.8439 - TotalVariation2D: 37.4853 - Nor - ETA: 3s - Score: 356.8524 - TotalVariation2D: 36.3211 - Norm: 36. - ETA: 3s - Score: 353.7903 - TotalVariation2D: 36.0058 - Norm: 36.01 - ETA: 3s - Score: 352.3793 - TotalVariation2D: 35.8474 - Norm: 36. - ETA: 3s - Score: 348.4227 - TotalVariation2D: 35.3867 - Norm: 35.98 - ETA: 3s - Score: 346.0872 - TotalVariation2D: 35.0843 - Norm: - ETA: 2s - Score: 335.9412 - TotalVariation2D: 33.9266 - Norm: 35. - ETA: 2s - Score: 333.3356 - TotalVariation2D: 33.5193 - Norm: 35.88 - ETA: 2s - Score: 330.9606 - TotalVariation2D: 33.2501 - Norm: 3 - ETA: 2s - Score: 328.5327 - TotalVariation2D: 32.8678 - Norm: 35.85 - ETA: 2s - Score: 326.6104 - TotalVariation2D: 32.6254 - ETA: 1s - Score: 319.3018 - TotalVariation2D: 31.7068 - Norm: 35. - ETA: 1s - Score: 317.2738 - TotalVariation2D: 31.4921 - Norm: 35. - ETA: 1s - Score: 314.7779 - TotalVariation2D: 31.2808 - Norm: 3 - ETA: 1s - Score: 311.8174 - TotalVariation2D: 30.8691 - Norm: 3 - ETA: 0s - Score: 305.5088 - TotalVariation2D: 30.3058 - Nor - ETA: 0s - Score: 299.5986 - TotalVariation2D: 29.4810 - Norm: 35. - ETA: 0s - Score: 298.1377 - TotalVariation2D: 29.1635 - Norm: 35.61 - ETA: 0s - Score: 296.1482 - TotalVariation2D: 29.0074 - Norm: 35.60 - 11s 55ms/step - Score: 295.1989 - TotalVariation2D: 28.8498 - Norm: 35.5898\n",
      "200/200 [==============================] - ETA: 0s - Score: -33.2671 - TotalVariation2D: 15.1689 - Norm: 36.9537 ETA: 4s - Score: -45.8419 - TotalVariation2D: 57.9373 - Norm: 3 - ETA: 4s - Score: -46.7232 - TotalVariation2D: 50.1205 - Norm: 38.79 - ETA: 4s - Score: -43.3218 - TotalVariation2D: 48.2102 - Norm: 38.75 - ETA: 5s - Score: -40.5483 - TotalVariation2D: 46.4146 - Norm: 38. - ETA: 5s - Score: -43.1343 - TotalVariation2D: 44.8454 - Nor - ETA: 5s - Score: -43.5720 - TotalVariation2D: 40.2930 - Norm: 38. - ETA: 6s - Score: -44.9179 - TotalVariation2D: 39.1699 - Norm: 38. - ETA: 6s - Score: -45.2093 - TotalVariation2D: 38.0692 - Norm: 3 - ETA: 6s - Score: -44.2880 - TotalVariation2D: 36.4995 - Norm: 38. - ETA: 6s - Score: -44.5357 - TotalVariation2D: 35.0893 - Norm: 38. - ETA: 5s - Score: -44.2582 - TotalVariation2D: 33.4212 - Norm: 38.32 - ETA: 5s - Score: -44.6784 - TotalVariation2D: 32.6286 - Norm: 38.29 - ETA: 5s - Score: -44.7719 - TotalVariation2D: 31.8690 - Norm: 3 - ETA: 5s - Score: -44.2900 - TotalVariation2D: 29.5704 - Norm: 38. - ETA: 4s - Score: -39.0772 - TotalVariation2D: 28.1824 - Norm: 38. - ETA: 4s - Score: -38.9768 - TotalVariation2D: 27.2625 - Nor - ETA: 4s - Score: -39.7826 - TotalVariation2D: 25.1532 - Norm: 37.95 - ETA: 4s - Score: -39.6099 - TotalVariation2D: 24.7710 - Norm: 37. - ETA: 3s - Score: -38.5066 - TotalVariation2D: 24.0437 - Norm: 37.89 - ETA: 3s - Score: -38.3921 - TotalVariation2D: 23.8748 - Norm: 37.88 - ETA: 3s - Score: -38.2499 - TotalVariation2D: 23.5501 - Norm: 37. - ETA: 3s - Score: -37.7329 - TotalVariation2D: 22.9262 - Norm: 37.82 - ETA: 3s - Score: -37.8089 - TotalVariation2D: 22.6228 - Norm: 37.80 - ETA: 3s - Score: -37.8748 - TotalVariation2D: 22.3382 - Norm: 37. - ETA: 3s - Score: -37.6825 - TotalVariation2D: 21.8019 - Nor - ETA: 3s - Score: -37.1775 - TotalVariation2D: 20.9476 - Norm: 37.67 - ETA: 3s - Score: -36.9884 - TotalVariation2D: 20.8326 - Norm: 3 - ETA: 3s - Score: -37.0100 - TotalVariation2D: 20.4979 - ETA: 2s - Score: -36.5844 - TotalVariation2D: 1 - ETA: 2s - Score: -35.3857 - TotalVariation2D: 18.5450 - Norm: 37.43 - ETA: 2s - Score: -35.3196 - TotalVariation2D: 18.4669 - Norm: 37. - ETA: 2s - Score: -35.0763 - TotalVariation2D: 18.3143 - Norm: 3 - ETA: 2s - Score: -34.3821 - TotalVariation2D: 18.0884 - ETA: 2s - Score: -33.9922 - TotalVariation2 - ETA: 1s - Score: -32.7584 - TotalVariation2D: 16.6781 - N - ETA: 1s - Score: -33.2860 - TotalVariation2D: 16.3629 - Norm: 37.13 - ETA: 1s - Score: -33.3438 - TotalVariation2D: 16.3097 - N - ETA: 0s - Score: -33.1217 - TotalVariation2D: 15.9882 - Norm: 37.08 - ETA: 0s - Score: -33.2070 - TotalVariation2D: 15.9347 - Norm: - ETA: 0s - Score: -33.2186 - TotalVariation2D: 15.7279 - Norm: - ETA: 0s - Score: -33.3190 - TotalVariation2D: 15.5263 - Norm: - ETA: 0s - Score: -33.1705 - TotalVariation2D: 15.3176 - Norm: 36.97 - ETA: 0s - Score: -33.1664 - TotalVariation2D: 15.2673 - Norm: 36.96 - ETA: 0s - Score: -33.1895 - TotalVariation2D: 15.2178 - Norm: 36. - 10s 52ms/step - Score: -33.0849 - TotalVariation2D: 15.1183 - Norm: 36.9460\n"
     ]
    },
    {
     "data": {
      "image/png": "[encoded data removed]",
      "text/plain": [
       "<Figure size 432x288 with 1 Axes>"
      ]
     },
     "metadata": {
      "needs_background": "light"
     },
     "output_type": "display_data"
    }
   ],
   "source": [
    "# Activations for all classes\n",
    "for index in range(10):\n",
    "    activations = act_max(CategoricalScore(index),\n",
    "                           steps=200,\n",
    "                           input_modifiers=[Jitter(jitter=16), Rotate2D(degree=1)],\n",
    "                           regularizers=[TotalVariation2D(weight=1.0),\n",
    "                                         Norm(weight=0.3, p=1)],\n",
    "                           optimizer=tf.keras.optimizers.RMSprop(1.0, 0.999),\n",
    "                           callbacks=[Progress()])\n",
    "    plt.title(\"Network percepltion for {}\".format(index))\n",
    "    plt.imshow(activations[0])\n",
    "plt.show()"
   ]
  },
  {
   "cell_type": "code",
   "execution_count": null,
   "id": "a455d01d",
   "metadata": {},
   "outputs": [],
   "source": []
  }
 ],
 "metadata": {
  "kernelspec": {
   "display_name": "Python 3 (ipykernel)",
   "language": "python",
   "name": "python3"
  },
  "language_info": {
   "codemirror_mode": {
    "name": "ipython",
    "version": 3
   },
   "file_extension": ".py",
   "mimetype": "text/x-python",
   "name": "python",
   "nbconvert_exporter": "python",
   "pygments_lexer": "ipython3",
   "version": "3.9.7"
  }
 },
 "nbformat": 4,
 "nbformat_minor": 5
}
