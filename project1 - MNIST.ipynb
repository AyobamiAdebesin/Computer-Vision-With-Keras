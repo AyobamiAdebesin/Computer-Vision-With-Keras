{
 "cells": [
  {
   "cell_type": "markdown",
   "id": "fca3d901",
   "metadata": {},
   "source": [
    "### Computer Vision with Keras"
   ]
  },
  {
   "cell_type": "code",
   "execution_count": 14,
   "id": "528c62d6",
   "metadata": {
    "scrolled": true
   },
   "outputs": [],
   "source": [
    "import numpy as np\n",
    "import pandas as pd\n",
    "import matplotlib\n",
    "import matplotlib.pyplot as plt\n",
    "import os, shutil\n",
    "import tensorflow as tf\n",
    "import math\n",
    "import h5py\n",
    "import scipy\n",
    "import keras\n",
    "import PIL\n",
    "\n",
    "\n",
    "from tensorflow.keras import models, layers\n",
    "from PIL import Image\n",
    "from tensorflow.keras import backend as K\n",
    "from tensorflow.keras.models import Model\n",
    "from tensorflow.python.framework import ops\n",
    "from tensorflow.keras.layers import Conv2D, MaxPooling2D, AveragePooling2D\n",
    "from tensorflow.keras.layers import Dense, Dropout, Input, Flatten\n",
    "%matplotlib inline"
   ]
  },
  {
   "cell_type": "code",
   "execution_count": 15,
   "id": "d38e78db",
   "metadata": {},
   "outputs": [],
   "source": [
    "# Load the mnist dataset\n",
    "from tensorflow.keras.datasets import mnist\n",
    "(X_train, y_train), (X_test, y_test) = mnist.load_data()"
   ]
  },
  {
   "cell_type": "code",
   "execution_count": 16,
   "id": "74aec6a1",
   "metadata": {},
   "outputs": [
    {
     "name": "stdout",
     "output_type": "stream",
     "text": [
      "Initial shape of X_train: (60000, 28, 28)\n",
      "Number of samples in our training data: 60000\n",
      "Number of labels in our training data: 60000\n",
      "Number of samples in our test data: 10000\n",
      "Number of labels in our test data: 10000\n"
     ]
    }
   ],
   "source": [
    "# Examine the dataset\n",
    "print(\"Initial shape of X_train:\", str(X_train.shape))\n",
    "print(\"Number of samples in our training data:\", str(X_train.shape[0]))\n",
    "print(\"Number of labels in our training data:\", str(y_train.shape[0]))\n",
    "print(\"Number of samples in our test data:\", str(X_test.shape[0]))\n",
    "print(\"Number of labels in our test data:\", str(y_test.shape[0]))\n"
   ]
  },
  {
   "cell_type": "code",
   "execution_count": 17,
   "id": "fc1ea12a",
   "metadata": {},
   "outputs": [],
   "source": [
    "# View some images\n",
    "# We can view this images using OpenCV or matplotlib\n",
    "\n",
    "#Using OpenCV\n",
    "import cv2\n",
    "\n",
    "for i in range(6):\n",
    "    random_num = np.random.randint(0, len(X_train))\n",
    "    img = X_train[random_num]\n",
    "    window_name =  \"Random sample #\" + str(i)\n",
    "    cv2.imshow(window_name, img)\n",
    "    cv2.waitKey(0)\n",
    "cv2.destroyAllWindows()"
   ]
  },
  {
   "cell_type": "code",
   "execution_count": 18,
   "id": "acf567d1",
   "metadata": {},
   "outputs": [
    {
     "data": {
      "image/png": "[encoded data removed]",
      "text/plain": [
       "<Figure size 720x720 with 9 Axes>"
      ]
     },
     "metadata": {
      "needs_background": "light"
     },
     "output_type": "display_data"
    }
   ],
   "source": [
    "# Using maplotlib\n",
    "fig = plt.figure(figsize=(10, 10))\n",
    "rows = 3\n",
    "columns = 3\n",
    "\n",
    "for i in range(1, 10):\n",
    "    fig.add_subplot(rows, columns, i)\n",
    "    random_num = np.random.randint(0, len(X_train))\n",
    "    plt.imshow(X_train[random_num], cmap = plt.get_cmap('gray'))\n",
    "    plt.axis('off')\n",
    "    plt.title(\"Random image #\"+str(i))\n",
    "plt.show()"
   ]
  },
  {
   "cell_type": "code",
   "execution_count": 19,
   "id": "29f7ea86",
   "metadata": {},
   "outputs": [],
   "source": [
    "# Prepare the dataset for training\n",
    "img_height = X_train[0].shape[0]\n",
    "img_width = X_train[0].shape[1]\n",
    "\n",
    "#Reshape the data\n",
    "X_train = X_train.reshape(X_train.shape[0], img_height, img_width, 1)\n",
    "X_test = X_test.reshape(X_test.shape[0], img_height, img_width, 1)\n",
    "\n",
    "# Store the shape of a single image\n",
    "input_shape = X_train[0].shape\n",
    "\n",
    "# Change the image type tp float32 data type\n",
    "X_train = X_train.astype('float32')\n",
    "X_test = X_test.astype('float32')\n",
    "\n",
    "# Normalize the data by changing the range from (0-255) to (0,1)\n",
    "X_train /= 255\n",
    "X_test /= 255"
   ]
  },
  {
   "cell_type": "code",
   "execution_count": 20,
   "id": "4538ec0d",
   "metadata": {},
   "outputs": [],
   "source": [
    "# One Hot Encoding for labels\n",
    "from tensorflow.keras.utils import to_categorical\n",
    "y_train = to_categorical(y_train)\n",
    "y_test = to_categorical(y_test)"
   ]
  },
  {
   "cell_type": "code",
   "execution_count": 21,
   "id": "7e0d3cca",
   "metadata": {},
   "outputs": [],
   "source": [
    "# build the model\n",
    "num_classes = y_train.shape[1]\n",
    "num_pixels = X_train.shape[1] * X_train.shape[2]\n",
    "\n",
    "from tensorflow.keras import backend as K\n",
    "from tensorflow.keras.optimizers import SGD\n",
    "model = models.Sequential()\n",
    "model.add(Conv2D(32, (3,3), activation='relu', input_shape=input_shape))\n",
    "model.add(Conv2D(64, (3,3), activation='relu'))\n",
    "model.add(MaxPooling2D(2,2))\n",
    "model.add(Dropout(0.25))\n",
    "model.add(Flatten())\n",
    "model.add(Dense(128, activation='relu'))\n",
    "model.add(Dropout(0.5))\n",
    "model.add(Dense (num_classes, activation='softmax'))\n",
    "model.compile(loss = 'categorical_crossentropy', optimizer=SGD(0.01), metrics = ['accuracy'])"
   ]
  },
  {
   "cell_type": "code",
   "execution_count": 22,
   "id": "6f42a25a",
   "metadata": {},
   "outputs": [
    {
     "name": "stdout",
     "output_type": "stream",
     "text": [
      "Model: \"sequential_1\"\n",
      "_________________________________________________________________\n",
      "Layer (type)                 Output Shape              Param #   \n",
      "=================================================================\n",
      "conv2d_2 (Conv2D)            (None, 26, 26, 32)        320       \n",
      "_________________________________________________________________\n",
      "conv2d_3 (Conv2D)            (None, 24, 24, 64)        18496     \n",
      "_________________________________________________________________\n",
      "max_pooling2d_1 (MaxPooling2 (None, 12, 12, 64)        0         \n",
      "_________________________________________________________________\n",
      "dropout_2 (Dropout)          (None, 12, 12, 64)        0         \n",
      "_________________________________________________________________\n",
      "flatten_1 (Flatten)          (None, 9216)              0         \n",
      "_________________________________________________________________\n",
      "dense_2 (Dense)              (None, 128)               1179776   \n",
      "_________________________________________________________________\n",
      "dropout_3 (Dropout)          (None, 128)               0         \n",
      "_________________________________________________________________\n",
      "dense_3 (Dense)              (None, 10)                1290      \n",
      "=================================================================\n",
      "Total params: 1,199,882\n",
      "Trainable params: 1,199,882\n",
      "Non-trainable params: 0\n",
      "_________________________________________________________________\n"
     ]
    }
   ],
   "source": [
    "model.summary()"
   ]
  },
  {
   "cell_type": "code",
   "execution_count": 24,
   "id": "6db255c4",
   "metadata": {},
   "outputs": [
    {
     "name": "stdout",
     "output_type": "stream",
     "text": [
      "Epoch 1/5\n",
      "1875/1875 [==============================] - 324s 173ms/step - loss: 0.3251 - accuracy: 0.9010 - val_loss: 0.1484 - val_accuracy: 0.9563\n",
      "Epoch 2/5\n",
      "1875/1875 [==============================] - 360s 192ms/step - loss: 0.2352 - accuracy: 0.9290 - val_loss: 0.1165 - val_accuracy: 0.9669 ETA: 1:02 - loss: 0.2426 - accuracy - ETA: 1:01 - loss: 0.24 - ETA: 59s - loss: 0.2419 -  - ETA: 56s - lo\n",
      "Epoch 3/5\n",
      "1875/1875 [==============================] - 315s 168ms/step - loss: 0.1797 - accuracy: 0.9463 - val_loss: 0.0902 - val_accuracy: 0.9728\n",
      "Epoch 4/5\n",
      "1875/1875 [==============================] - 299s 160ms/step - loss: 0.1436 - accuracy: 0.9576 - val_loss: 0.0709 - val_accuracy: 0.9771\n",
      "Epoch 5/5\n",
      "1875/1875 [==============================] - 302s 161ms/step - loss: 0.1249 - accuracy: 0.9630 - val_loss: 0.0624 - val_accuracy: 0.9800\n"
     ]
    }
   ],
   "source": [
    "# Training the model\n",
    "batch_size = 32\n",
    "epochs = 5\n",
    "\n",
    "history = model.fit(X_train,\n",
    "                    y_train, batch_size=batch_size,\n",
    "                    epochs = epochs, verbose= 1, validation_data=(X_test, y_test))"
   ]
  },
  {
   "cell_type": "code",
   "execution_count": 25,
   "id": "d4d9b8da",
   "metadata": {},
   "outputs": [
    {
     "name": "stdout",
     "output_type": "stream",
     "text": [
      "Test loss: 0.06236500293016434\n",
      "Test accuracy 0.9800000190734863\n"
     ]
    }
   ],
   "source": [
    "score = model.evaluate(X_test, y_test, verbose=0)\n",
    "print(\"Test loss:\", score[0])\n",
    "print(\"Test accuracy\", score[1])"
   ]
  },
  {
   "cell_type": "code",
   "execution_count": 26,
   "id": "528d0971",
   "metadata": {},
   "outputs": [
    {
     "data": {
      "image/png": "[encoded data removed]",
      "text/plain": [
       "<Figure size 432x288 with 1 Axes>"
      ]
     },
     "metadata": {
      "needs_background": "light"
     },
     "output_type": "display_data"
    },
    {
     "data": {
      "image/png": "[encoded data removed]",
      "text/plain": [
       "<Figure size 432x288 with 1 Axes>"
      ]
     },
     "metadata": {
      "needs_background": "light"
     },
     "output_type": "display_data"
    }
   ],
   "source": [
    "# Plotting the training stats\n",
    "\n",
    "def plot_training_stats(model_history):\n",
    "    history_dict = model_history.history\n",
    "\n",
    "    loss_values = history_dict['loss']\n",
    "    val_loss = history_dict['val_loss']\n",
    "    val_accuracy = history_dict['accuracy']\n",
    "    accuracy_values = history_dict['val_accuracy']\n",
    "\n",
    "    epochs = range(1, len(loss_values) + 1)\n",
    "\n",
    "    line1= plt.plot(epochs, val_loss, label=\"Validation loss\")\n",
    "    line2 = plt.plot(epochs, loss_values, label=\"Training loss\")\n",
    "    plt.setp(line1, linewidth=2.0, marker = '+', markersize=10.0)\n",
    "    plt.setp(line2, linewidth=2.0, marker = '4', markersize=10.0)\n",
    "    plt.xlabel('Epochs')\n",
    "    plt.ylabel('Loss')\n",
    "    plt.grid(True)\n",
    "    plt.legend()\n",
    "    plt.show()\n",
    "\n",
    "    line1= plt.plot(epochs, val_loss, label=\"Validation accuracy\")\n",
    "    line2 = plt.plot(epochs, loss_values, label=\"Training accuracy\")\n",
    "    plt.setp(line1, linewidth=2.0, marker = '+', markersize=10.0)\n",
    "    plt.setp(line2, linewidth=2.0, marker = '4', markersize=10.0)\n",
    "    plt.xlabel('Epochs')\n",
    "    plt.ylabel('Loss')\n",
    "    plt.grid(True)\n",
    "    plt.legend()\n",
    "    plt.show()\n",
    "    return\n",
    "\n",
    "plot_training_stats(history)"
   ]
  },
  {
   "cell_type": "code",
   "execution_count": 27,
   "id": "c526b897",
   "metadata": {},
   "outputs": [],
   "source": [
    "# Saving the model\n",
    "model.save(\"First CNN.h5\")\n",
    "\n",
    "# Loading the model\n",
    "from keras.models import load_model\n",
    "\n",
    "classifier = load_model(\"First CNN.h5\")"
   ]
  },
  {
   "cell_type": "code",
   "execution_count": 28,
   "id": "07dd952e",
   "metadata": {},
   "outputs": [
    {
     "name": "stdout",
     "output_type": "stream",
     "text": [
      "Test loss: 0.06236500293016434\n",
      "Test accuracy 0.9800000190734863\n"
     ]
    }
   ],
   "source": [
    "score = classifier.evaluate(X_test, y_test, verbose=0)\n",
    "print(\"Test loss:\", score[0])\n",
    "print(\"Test accuracy\", score[1])"
   ]
  },
  {
   "cell_type": "code",
   "execution_count": 31,
   "id": "287c4732",
   "metadata": {},
   "outputs": [],
   "source": [
    "# Using the classifier to predict some test images\n",
    "\n",
    "def draw_test(name, pred, input_img):\n",
    "    BLACK = [0,0,0]\n",
    "    expanded_image = cv2.copyMakeBorder(input_img, 0, 0, 0, imageL.shape[0], cv2.BORDER_CONSTANT, value=BLACK)\n",
    "    expanded_image = cv2.cvtColor(expanded_image, cv2.COLOR_GRAY2BGR)\n",
    "    cv2.putText(expanded_image, str(pred), (152, 70), cv2.FONT_HERSHEY_COMPLEX_SMALL, 4, (0, 255, 0), 2)\n",
    "    cv2.imshow(name, expanded_image)\n",
    "\n",
    "for i in range(10):\n",
    "    rand = np.random.randint(0, len(X_test))\n",
    "    input_img = X_test[rand]\n",
    "    \n",
    "    imageL = cv2.resize(input_img, None, fx=4, fy=4, interpolation=cv2.INTER_CUBIC)\n",
    "    input_img = input_img.reshape(1, 28, 28, 1)\n",
    "    \n",
    "    #Get prediction\n",
    "    res = str(classifier.predict_classes(input_img, 1, verbose=0)[0])\n",
    "    draw_test(\"Prediction\", res, imageL)\n",
    "    cv2.waitKey(0)\n",
    "cv2.destroyAllWindows()"
   ]
  },
  {
   "cell_type": "code",
   "execution_count": 161,
   "id": "3502a3f4",
   "metadata": {},
   "outputs": [
    {
     "name": "stdout",
     "output_type": "stream",
     "text": [
      "('You must install pydot (`pip install pydot`) and install graphviz (see instructions at https://graphviz.gitlab.io/download/) ', 'for plot_model/model_to_dot to work.')\n"
     ]
    }
   ],
   "source": [
    "# Visualing the model\n",
    "from tensorflow.keras.utils import plot_model\n",
    "path = \"\"\n",
    "plot_model(model, to_file=\"model_path.png\", show_shapes=True, show_layer_names=True)"
   ]
  },
  {
   "cell_type": "code",
   "execution_count": null,
   "id": "cc03155a",
   "metadata": {},
   "outputs": [],
   "source": []
  },
  {
   "cell_type": "code",
   "execution_count": null,
   "id": "30180b93",
   "metadata": {},
   "outputs": [],
   "source": []
  },
  {
   "cell_type": "code",
   "execution_count": null,
   "id": "a6f30045",
   "metadata": {},
   "outputs": [],
   "source": []
  },
  {
   "cell_type": "code",
   "execution_count": null,
   "id": "d4d6b797",
   "metadata": {},
   "outputs": [],
   "source": []
  }
 ],
 "metadata": {
  "kernelspec": {
   "display_name": "Python 3 (ipykernel)",
   "language": "python",
   "name": "python3"
  },
  "language_info": {
   "codemirror_mode": {
    "name": "ipython",
    "version": 3
   },
   "file_extension": ".py",
   "mimetype": "text/x-python",
   "name": "python",
   "nbconvert_exporter": "python",
   "pygments_lexer": "ipython3",
   "version": "3.9.7"
  }
 },
 "nbformat": 4,
 "nbformat_minor": 5
}
